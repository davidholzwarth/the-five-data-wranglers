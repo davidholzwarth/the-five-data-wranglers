{
 "cells": [
  {
   "cell_type": "code",
   "execution_count": 13,
   "metadata": {},
   "outputs": [
    {
     "name": "stdout",
     "output_type": "stream",
     "text": [
      "The autoreload extension is already loaded. To reload it, use:\n",
      "  %reload_ext autoreload\n"
     ]
    }
   ],
   "source": [
    "%load_ext autoreload\n",
    "%autoreload 2\n",
    "from config import df_rb_ratings\n",
    "from src.models.seasonality_analysis import *"
   ]
  },
  {
   "cell_type": "markdown",
   "metadata": {},
   "source": []
  },
  {
   "cell_type": "code",
   "execution_count": 17,
   "metadata": {},
   "outputs": [
    {
     "name": "stdout",
     "output_type": "stream",
     "text": [
      "We lost 97 rows by filtering out styles with less than 10 reviews.\n",
      "We lost 169 rows by filtering out styles with less than 500 reviews.\n",
      "We lost 169 rows by filtering out styles with less than 500 reviews.\n"
     ]
    }
   ],
   "source": [
    "plot_and_head_average_rating_per_month(df_rb_ratings)\n",
    "plot_beer_style_ranking_by_amount(df_rb_ratings, df_rb_ratings['style'].unique())\n",
    "plot_beer_style_ranking_by_amount_subplot(df_rb_ratings, df_rb_ratings['style'].unique())\n",
    "plot_beer_style_ranking_by_avg_score(df_rb_ratings)\n"
   ]
  },
  {
   "cell_type": "code",
   "execution_count": null,
   "metadata": {},
   "outputs": [],
   "source": [
    "# I#m just adding this comment to be able to commit something."
   ]
  }
 ],
 "metadata": {
  "kernelspec": {
   "display_name": "ada",
   "language": "python",
   "name": "python3"
  },
  "language_info": {
   "codemirror_mode": {
    "name": "ipython",
    "version": 3
   },
   "file_extension": ".py",
   "mimetype": "text/x-python",
   "name": "python",
   "nbconvert_exporter": "python",
   "pygments_lexer": "ipython3",
   "version": "3.11.9"
  }
 },
 "nbformat": 4,
 "nbformat_minor": 2
}
