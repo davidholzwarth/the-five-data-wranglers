{
 "cells": [
  {
   "cell_type": "code",
   "outputs": [
    {
     "name": "stdout",
     "output_type": "stream",
     "text": [
      "C:\\Users\\nette\\Dateistruktur\\RWTH\\Auslandssemester\\ImSemester\\CS-401 Applied Data Analysis\\Project\\P3\\the-five-data-wranglers\n"
     ]
    }
   ],
   "source": [
    "import os\n",
    "print(os.getcwd())"
   ],
   "metadata": {
    "collapsed": false,
    "ExecuteTime": {
     "end_time": "2024-12-09T17:57:06.214490300Z",
     "start_time": "2024-12-09T17:57:05.085193700Z"
    }
   },
   "execution_count": 3
  },
  {
   "cell_type": "code",
   "execution_count": 4,
   "metadata": {
    "ExecuteTime": {
     "end_time": "2024-12-09T17:58:13.203649800Z",
     "start_time": "2024-12-09T17:57:06.211493300Z"
    }
   },
   "outputs": [
    {
     "name": "stdout",
     "output_type": "stream",
     "text": [
      "The autoreload extension is already loaded. To reload it, use:\n",
      "  %reload_ext autoreload\n"
     ]
    }
   ],
   "source": [
    "%load_ext autoreload\n",
    "%autoreload 2\n",
    "from config import df_ba_ratings, df_rb_ratings\n",
    "from scr.models.seasonality_analysis import *\n",
    "from scr.models.foreign_beer import *\n",
    "from scr.models.experience_words import *"
   ]
  },
  {
   "cell_type": "code",
   "execution_count": 3,
   "metadata": {},
   "outputs": [
    {
     "name": "stdout",
     "output_type": "stream",
     "text": [
      "We lost 97 rows by filtering out styles with less than 14 reviews.\n"
     ]
    }
   ],
   "source": [
    "plot_beer_style_ranking_by_amount(df_rb_ratings, df_rb_ratings['style'].unique(),  300, 14)"
   ]
  },
  {
   "cell_type": "markdown",
   "source": [
    "# Generaing the plots for the experience_words analysis"
   ],
   "metadata": {
    "collapsed": false
   }
  },
  {
   "cell_type": "code",
   "execution_count": 5,
   "metadata": {
    "ExecuteTime": {
     "end_time": "2024-12-09T18:05:49.429769100Z",
     "start_time": "2024-12-09T18:00:51.398171200Z"
    }
   },
   "outputs": [],
   "source": [
    "exp_user_ids_ba = get_experienced_users2(df_ba_ratings, exp_words1)\n",
    "df_ba_ratings_of_exp, df_ba_ratings_of_inexp = split_by_experience(df_ba_ratings, exp_user_ids_ba)"
   ]
  },
  {
   "cell_type": "code",
   "outputs": [],
   "source": [
    "plot_df, most_rated = calculate_style_distribution(df_ba_ratings_of_exp, df_ba_ratings_of_inexp)"
   ],
   "metadata": {
    "collapsed": false,
    "ExecuteTime": {
     "end_time": "2024-12-09T18:05:50.333524500Z",
     "start_time": "2024-12-09T18:05:49.442023600Z"
    }
   },
   "execution_count": 6
  },
  {
   "cell_type": "code",
   "outputs": [],
   "source": [
    "rating_diff_df = calculate_rating_difference(df_ba_ratings_of_exp, df_ba_ratings_of_inexp, most_rated)"
   ],
   "metadata": {
    "collapsed": false,
    "ExecuteTime": {
     "end_time": "2024-12-09T18:05:52.032556100Z",
     "start_time": "2024-12-09T18:05:50.336583300Z"
    }
   },
   "execution_count": 7
  },
  {
   "cell_type": "code",
   "outputs": [],
   "source": [
    "rating_diff_df2, distr_diff_df = calculate_rating_difference_with_ci(df_ba_ratings_of_exp, df_ba_ratings_of_inexp, most_rated)"
   ],
   "metadata": {
    "collapsed": false,
    "ExecuteTime": {
     "end_time": "2024-12-09T18:05:56.152056600Z",
     "start_time": "2024-12-09T18:05:52.038559400Z"
    }
   },
   "execution_count": 8
  },
  {
   "cell_type": "code",
   "outputs": [],
   "source": [
    "save_plot_combined_distribution_and_rating_difference_with_ci(plot_df, rating_diff_df2, distr_diff_df)"
   ],
   "metadata": {
    "collapsed": false,
    "ExecuteTime": {
     "end_time": "2024-12-09T18:14:25.244948500Z",
     "start_time": "2024-12-09T18:14:25.096113200Z"
    }
   },
   "execution_count": 10
  },
  {
   "cell_type": "code",
   "outputs": [],
   "source": [],
   "metadata": {
    "collapsed": false
   }
  }
 ],
 "metadata": {
  "kernelspec": {
   "display_name": "ada",
   "language": "python",
   "name": "python3"
  },
  "language_info": {
   "codemirror_mode": {
    "name": "ipython",
    "version": 3
   },
   "file_extension": ".py",
   "mimetype": "text/x-python",
   "name": "python",
   "nbconvert_exporter": "python",
   "pygments_lexer": "ipython3",
   "version": "3.11.9"
  }
 },
 "nbformat": 4,
 "nbformat_minor": 2
}
