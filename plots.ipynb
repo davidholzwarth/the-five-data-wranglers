{
 "cells": [
  {
   "cell_type": "code",
   "execution_count": 43,
   "metadata": {
    "ExecuteTime": {
     "end_time": "2024-12-13T09:30:16.629947100Z",
     "start_time": "2024-12-13T09:30:16.386064600Z"
    }
   },
   "outputs": [
    {
     "name": "stdout",
     "output_type": "stream",
     "text": [
      "The autoreload extension is already loaded. To reload it, use:\n",
      "  %reload_ext autoreload\n"
     ]
    }
   ],
   "source": [
    "%load_ext autoreload\n",
    "%autoreload 2\n",
    "from config import df_rb_ratings\n",
    "from src.models.seasonality_analysis import *"
   ]
  },
  {
   "cell_type": "markdown",
   "metadata": {},
   "source": []
  },
  {
   "cell_type": "code",
   "execution_count": 17,
   "metadata": {},
   "outputs": [
    {
     "name": "stdout",
     "output_type": "stream",
     "text": [
      "We lost 97 rows by filtering out styles with less than 10 reviews.\n",
      "We lost 169 rows by filtering out styles with less than 500 reviews.\n",
      "We lost 169 rows by filtering out styles with less than 500 reviews.\n"
     ]
    }
   ],
   "source": [
    "plot_and_head_average_rating_per_month(df_rb_ratings)\n",
    "plot_beer_style_ranking_by_amount(df_rb_ratings, df_rb_ratings['style'].unique())\n",
    "plot_beer_style_ranking_by_amount_subplot(df_rb_ratings, df_rb_ratings['style'].unique())\n",
    "plot_beer_style_ranking_by_avg_score(df_rb_ratings)\n"
   ]
  },
  {
   "cell_type": "code",
   "execution_count": null,
   "metadata": {},
   "outputs": [],
   "source": [
    "# I#m just adding this comment to be able to commit something."
   ]
  },
  {
   "cell_type": "markdown",
   "source": [
    "### Testing area for the map plot size"
   ],
   "metadata": {
    "collapsed": false
   }
  },
  {
   "cell_type": "code",
   "outputs": [],
   "source": [
    "from config import df_ba_ratings, df_rb_ratings\n",
    "from src.models.seasonality_analysis import *\n",
    "from src.models.foreign_beer import *\n",
    "from src.models.experience_words import *\n",
    "from src.data.some_dataloader import *"
   ],
   "metadata": {
    "collapsed": false,
    "ExecuteTime": {
     "end_time": "2024-12-13T09:30:19.118077Z",
     "start_time": "2024-12-13T09:30:18.975826400Z"
    }
   },
   "execution_count": 44
  },
  {
   "cell_type": "code",
   "outputs": [],
   "source": [
    "df_ba_users, df_rb_users = load_user_data()"
   ],
   "metadata": {
    "collapsed": false,
    "ExecuteTime": {
     "end_time": "2024-12-13T09:31:15.392217300Z",
     "start_time": "2024-12-13T09:31:14.961446800Z"
    }
   },
   "execution_count": 48
  },
  {
   "cell_type": "code",
   "outputs": [],
   "source": [
    "df_brew = load_brewery_data(brewery_path=\"src/data/RateBeer/breweries.csv\")"
   ],
   "metadata": {
    "collapsed": false,
    "ExecuteTime": {
     "end_time": "2024-12-13T09:31:19.829783700Z",
     "start_time": "2024-12-13T09:31:19.654161Z"
    }
   },
   "execution_count": 49
  },
  {
   "cell_type": "code",
   "outputs": [],
   "source": [
    "df_ba_ratings_wo_text = load_rating_wo_text(\"src/data/BeerAdvocate/BA_ratings.csv\")\n",
    "\n",
    "df_ba_ratings_w_text = df_ba_ratings\n",
    "df_rb_ratings_w_text = df_rb_ratings"
   ],
   "metadata": {
    "collapsed": false,
    "ExecuteTime": {
     "end_time": "2024-12-13T09:31:53.494814900Z",
     "start_time": "2024-12-13T09:31:21.803660400Z"
    }
   },
   "execution_count": 50
  },
  {
   "cell_type": "code",
   "outputs": [
    {
     "name": "stdout",
     "output_type": "stream",
     "text": [
      "Number of ratings from US from BeerAdvocate: 7303870\n",
      "Number of ratings from US from RateBeer: 352157\n"
     ]
    }
   ],
   "source": [
    "df_rb_users_ratings_us_only, df_ba_users_ratings_us_only = prepare_datasets(df_rb_users, df_ba_users, df_rb_ratings_w_text, df_ba_ratings_w_text)"
   ],
   "metadata": {
    "collapsed": false,
    "ExecuteTime": {
     "end_time": "2024-12-13T09:32:24.817844700Z",
     "start_time": "2024-12-13T09:31:53.499878400Z"
    }
   },
   "execution_count": 51
  },
  {
   "cell_type": "code",
   "outputs": [
    {
     "name": "stdout",
     "output_type": "stream",
     "text": [
      "Number of duplicates:  317982\n"
     ]
    }
   ],
   "source": [
    "# there are some duplicates in the two datasets\n",
    "df_rb_users_ratings_us_only = filter_usa_duplicates(df_rb_users_ratings_us_only, df_ba_users_ratings_us_only, [\"style\", \"brewery_name\", \"abv\", \"text\"])"
   ],
   "metadata": {
    "collapsed": false,
    "ExecuteTime": {
     "end_time": "2024-12-13T09:32:30.346324500Z",
     "start_time": "2024-12-13T09:32:24.827808Z"
    }
   },
   "execution_count": 52
  },
  {
   "cell_type": "code",
   "outputs": [],
   "source": [
    "df_rb_users_ratings_us_only = df_rb_users_ratings_us_only.drop(columns=[\"text\"])\n",
    "df_ba_users_ratings_us_only = df_ba_users_ratings_us_only.drop(columns=[\"text\"])"
   ],
   "metadata": {
    "collapsed": false,
    "ExecuteTime": {
     "end_time": "2024-12-13T09:32:31.475689600Z",
     "start_time": "2024-12-13T09:32:30.346393400Z"
    }
   },
   "execution_count": 53
  },
  {
   "cell_type": "code",
   "outputs": [],
   "source": [
    "df_ba_brew = load_brewery_data(brewery_path=\"src/data/BeerAdvocate/breweries.csv\")"
   ],
   "metadata": {
    "collapsed": false,
    "ExecuteTime": {
     "end_time": "2024-12-13T09:32:31.717055300Z",
     "start_time": "2024-12-13T09:32:31.487700900Z"
    }
   },
   "execution_count": 54
  },
  {
   "cell_type": "code",
   "outputs": [
    {
     "name": "stdout",
     "output_type": "stream",
     "text": [
      "Number of ratings from US: 7332710\n"
     ]
    }
   ],
   "source": [
    "df_us_only = merge_with_brewery(df_rb_users_ratings_us_only, df_ba_users_ratings_us_only, df_brew, df_ba_brew)"
   ],
   "metadata": {
    "collapsed": false,
    "ExecuteTime": {
     "end_time": "2024-12-13T09:32:37.605266400Z",
     "start_time": "2024-12-13T09:32:31.720054100Z"
    }
   },
   "execution_count": 55
  },
  {
   "cell_type": "code",
   "outputs": [
    {
     "name": "stdout",
     "output_type": "stream",
     "text": [
      "Avg rating for US beer: 3.9113082983029344\n",
      "Avg rating for non-US beer: 3.800977039382433\n"
     ]
    }
   ],
   "source": [
    "df_us_only = avg_ratings_us(df_us_only)"
   ],
   "metadata": {
    "collapsed": false,
    "ExecuteTime": {
     "end_time": "2024-12-13T09:32:39.736053300Z",
     "start_time": "2024-12-13T09:32:37.606667800Z"
    }
   },
   "execution_count": 56
  },
  {
   "cell_type": "code",
   "outputs": [],
   "source": [
    "avg_ratings_per_location = avg_ratings_per_location_us(df_us_only)"
   ],
   "metadata": {
    "collapsed": false,
    "ExecuteTime": {
     "end_time": "2024-12-13T09:32:42.666390Z",
     "start_time": "2024-12-13T09:32:39.739287700Z"
    }
   },
   "execution_count": 57
  },
  {
   "cell_type": "code",
   "outputs": [
    {
     "name": "stdout",
     "output_type": "stream",
     "text": [
      "is_us_beer user_location     False      True  Difference\n",
      "0                Alabama  3.749917  3.840242    0.090325\n",
      "1                 Alaska  3.906063  3.948660    0.042597\n",
      "2                Arizona  3.777696  3.927382    0.149686\n",
      "3               Arkansas  3.783181  3.864941    0.081760\n",
      "4             California  3.805595  3.959702    0.154107\n",
      "is_us_beer State     False      True  Rating Difference\n",
      "0             AL  3.749917  3.840242           0.090325\n",
      "1             AK  3.906063  3.948660           0.042597\n",
      "2             AZ  3.777696  3.927382           0.149686\n",
      "3             AR  3.783181  3.864941           0.081760\n",
      "4             CA  3.805595  3.959702           0.154107\n"
     ]
    }
   ],
   "source": [
    "plot_avg_ratings_map(avg_ratings_per_location, False, True)"
   ],
   "metadata": {
    "collapsed": false,
    "ExecuteTime": {
     "end_time": "2024-12-13T09:32:42.999312100Z",
     "start_time": "2024-12-13T09:32:42.673134300Z"
    }
   },
   "execution_count": 58
  },
  {
   "cell_type": "code",
   "outputs": [
    {
     "name": "stdout",
     "output_type": "stream",
     "text": [
      "is_us_beer user_location     False      True  Difference\n",
      "0                Alabama  3.749917  3.840242    0.090325\n",
      "1                 Alaska  3.906063  3.948660    0.042597\n",
      "2                Arizona  3.777696  3.927382    0.149686\n",
      "3               Arkansas  3.783181  3.864941    0.081760\n",
      "4             California  3.805595  3.959702    0.154107\n",
      "is_us_beer State     False      True  Rating Difference\n",
      "0             AL  3.749917  3.840242           0.090325\n",
      "1             AK  3.906063  3.948660           0.042597\n",
      "2             AZ  3.777696  3.927382           0.149686\n",
      "3             AR  3.783181  3.864941           0.081760\n",
      "4             CA  3.805595  3.959702           0.154107\n"
     ]
    }
   ],
   "source": [
    "plot_avg_ratings_map(avg_ratings_per_location, True, True)"
   ],
   "metadata": {
    "collapsed": false,
    "ExecuteTime": {
     "end_time": "2024-12-13T09:32:43.197942700Z",
     "start_time": "2024-12-13T09:32:43.001494100Z"
    }
   },
   "execution_count": 59
  },
  {
   "cell_type": "code",
   "outputs": [],
   "source": [
    "def plot_avg_ratings_map_tests(avg_ratings_per_location, save=True):\n",
    "    \"\"\"\n",
    "    Plots an interactive map of the USA showing the difference in average ratings by state.\n",
    "    The color intensity reflects the difference value, and hovering over a state displays its name and value.\n",
    "\n",
    "    :param save: whether we want to save or show the graphic\n",
    "    :param avg_ratings_per_location: DataFrame containing states and the difference in ratings.\n",
    "    :return: Nothing (plots an interactive map).\n",
    "    \"\"\"\n",
    "    # Reset index to ensure \"user_location\" is a column\n",
    "    avg_ratings_per_location = avg_ratings_per_location.reset_index()\n",
    "\n",
    "    print(avg_ratings_per_location.head())\n",
    "\n",
    "    # Ensure the column names are meaningful for the map\n",
    "    avg_ratings_per_location.rename(\n",
    "        columns={\"user_location\": \"State\", \"Difference\": \"Rating Difference\"},\n",
    "        inplace=True,\n",
    "    )\n",
    "\n",
    "    avg_ratings_per_location[\"State\"] = avg_ratings_per_location[\"State\"].map(\n",
    "        state_name_to_abbreviation\n",
    "    )\n",
    "\n",
    "    print(avg_ratings_per_location.head())\n",
    "\n",
    "    # Use Plotly Express to create the map\n",
    "    fig = px.choropleth(\n",
    "        avg_ratings_per_location,\n",
    "        locations=\"State\",  # State names in the data\n",
    "        locationmode=\"USA-states\",  # Match state names to the USA map\n",
    "        color=\"Rating Difference\",  # Value to represent via color\n",
    "        color_continuous_scale=\"Viridis\",  # Color scale\n",
    "        scope=\"usa\",  # Restrict to USA\n",
    "        title=\"Difference in Average Ratings by State (US Beer vs Non-US Beer)\",\n",
    "        labels={\"Rating Difference\": \"Diff (US - Non-US)\"},  # Label for hover tooltip\n",
    "    )\n",
    "\n",
    "    # Customize hover data\n",
    "    fig.update_traces(hovertemplate=\"<b>%{location}</b><br>Difference: %{z:.2f}\")\n",
    "\n",
    "    # Adjust the layout to give more space to the map\n",
    "    fig.update_layout(\n",
    "        width=720,  # Increase width of the plot\n",
    "        height=430,  # Increase height of the plot\n",
    "        margin={\"r\":0,\"t\":0,\"l\":0,\"b\":0},  # Reduce margins around the plot\n",
    "        title=None,\n",
    "        coloraxis_colorbar=dict(\n",
    "            title=\"Difference\",\n",
    "            orientation=\"h\",\n",
    "            thicknessmode=\"pixels\",  # Adjust thickness of colorbar\n",
    "            thickness=10,  # Set thickness in pixels\n",
    "            # lenmode=\"fraction\",  # Adjust length of colorbar\n",
    "            len=0.6,  # Set the length relative to the figure\n",
    "            xanchor=\"center\",  # Align the colorbar to the right\n",
    "            x=0.5,  # Set its horizontal position\n",
    "            y = 1.05\n",
    "        )\n",
    "    )\n",
    "\n",
    "    # Show the plot\n",
    "    if save:\n",
    "        fig.write_html(\"src/plots/US_map_test.html\")\n",
    "    else:\n",
    "        fig.show()\n",
    "\n",
    "\n",
    "def plot_avg_ratings_map_tests2(avg_ratings_per_location, save=True):\n",
    "    \"\"\"\n",
    "    Plots an interactive map of the USA showing the difference in average ratings by state.\n",
    "    The color intensity reflects the difference value, and hovering over a state displays its name and value.\n",
    "\n",
    "    :param save: whether we want to save or show the graphic\n",
    "    :param avg_ratings_per_location: DataFrame containing states and the difference in ratings.\n",
    "    :return: Nothing (plots an interactive map).\n",
    "    \"\"\"\n",
    "    # Reset index to ensure \"user_location\" is a column\n",
    "    avg_ratings_per_location = avg_ratings_per_location.reset_index()\n",
    "\n",
    "    print(avg_ratings_per_location.head())\n",
    "\n",
    "    # Ensure the column names are meaningful for the map\n",
    "    avg_ratings_per_location.rename(\n",
    "        columns={\"user_location\": \"State\", \"Difference\": \"Rating Difference\"},\n",
    "        inplace=True,\n",
    "    )\n",
    "\n",
    "    avg_ratings_per_location[\"State\"] = avg_ratings_per_location[\"State\"].map(\n",
    "        state_name_to_abbreviation\n",
    "    )\n",
    "\n",
    "    print(avg_ratings_per_location.head())\n",
    "\n",
    "    # Use Plotly Express to create the map\n",
    "    fig = px.choropleth(\n",
    "        avg_ratings_per_location,\n",
    "        locations=\"State\",  # State names in the data\n",
    "        locationmode=\"USA-states\",  # Match state names to the USA map\n",
    "        color=\"Rating Difference\",  # Value to represent via color\n",
    "        color_continuous_scale=\"Viridis\",  # Color scale\n",
    "        scope=\"usa\",  # Restrict to USA\n",
    "        title=\"Difference in Average Ratings by State (US Beer vs Non-US Beer)\",\n",
    "        labels={\"Rating Difference\": \"Diff (US - Non-US)\"},  # Label for hover tooltip\n",
    "    )\n",
    "\n",
    "    # Customize hover data\n",
    "    fig.update_traces(hovertemplate=\"<b>%{location}</b><br>Difference: %{z:.2f}\")\n",
    "\n",
    "    # Adjust the layout to give more space to the map\n",
    "    fig.update_layout(\n",
    "        width=680,  # Adjust width of the plot\n",
    "        height=480,  # Adjust height of the plot\n",
    "        margin={\"r\": 0, \"t\": 10, \"l\": 0, \"b\": 10},  # Minimize margins\n",
    "        title=None,\n",
    "        coloraxis_colorbar=dict(\n",
    "            title=\"Difference\",\n",
    "            orientation=\"h\",\n",
    "            thicknessmode=\"pixels\",  # Adjust thickness of colorbar\n",
    "            thickness=10,  # Set thickness in pixels\n",
    "            len=0.6,  # Set the length relative to the figure\n",
    "            xanchor=\"center\",  # Align the colorbar to the center\n",
    "            x=0.5,  # Set its horizontal position\n",
    "            y=1.05,  # Position it slightly above the map\n",
    "        ),\n",
    "        geo=dict(\n",
    "            center={\"lat\": 37.0902, \"lon\": -95.7129},  # Center on the continental USA\n",
    "            projection_scale=1.2,  # Increase scale for better height fit\n",
    "            fitbounds=\"locations\",  # Fit the map tightly to the states\n",
    "        ),\n",
    "    )\n",
    "\n",
    "    # Show the plot\n",
    "    if save:\n",
    "        fig.write_html(\"src/plots/US_map_test2.html\")\n",
    "    else:\n",
    "        fig.show()\n"
   ],
   "metadata": {
    "collapsed": false,
    "ExecuteTime": {
     "end_time": "2024-12-13T10:22:03.170323900Z",
     "start_time": "2024-12-13T10:22:03.027409100Z"
    }
   },
   "execution_count": 83
  },
  {
   "cell_type": "code",
   "outputs": [
    {
     "name": "stdout",
     "output_type": "stream",
     "text": [
      "is_us_beer user_location     False      True  Difference\n",
      "0                Alabama  3.749917  3.840242    0.090325\n",
      "1                 Alaska  3.906063  3.948660    0.042597\n",
      "2                Arizona  3.777696  3.927382    0.149686\n",
      "3               Arkansas  3.783181  3.864941    0.081760\n",
      "4             California  3.805595  3.959702    0.154107\n",
      "is_us_beer State     False      True  Rating Difference\n",
      "0             AL  3.749917  3.840242           0.090325\n",
      "1             AK  3.906063  3.948660           0.042597\n",
      "2             AZ  3.777696  3.927382           0.149686\n",
      "3             AR  3.783181  3.864941           0.081760\n",
      "4             CA  3.805595  3.959702           0.154107\n",
      "is_us_beer user_location     False      True  Difference\n",
      "0                Alabama  3.749917  3.840242    0.090325\n",
      "1                 Alaska  3.906063  3.948660    0.042597\n",
      "2                Arizona  3.777696  3.927382    0.149686\n",
      "3               Arkansas  3.783181  3.864941    0.081760\n",
      "4             California  3.805595  3.959702    0.154107\n",
      "is_us_beer State     False      True  Rating Difference\n",
      "0             AL  3.749917  3.840242           0.090325\n",
      "1             AK  3.906063  3.948660           0.042597\n",
      "2             AZ  3.777696  3.927382           0.149686\n",
      "3             AR  3.783181  3.864941           0.081760\n",
      "4             CA  3.805595  3.959702           0.154107\n"
     ]
    }
   ],
   "source": [
    "plot_avg_ratings_map_tests(avg_ratings_per_location, save=True)\n",
    "plot_avg_ratings_map_tests2(avg_ratings_per_location, save=True)"
   ],
   "metadata": {
    "collapsed": false,
    "ExecuteTime": {
     "end_time": "2024-12-13T10:22:03.428812800Z",
     "start_time": "2024-12-13T10:22:03.172323800Z"
    }
   },
   "execution_count": 84
  },
  {
   "cell_type": "code",
   "outputs": [],
   "source": [],
   "metadata": {
    "collapsed": false
   }
  }
 ],
 "metadata": {
  "kernelspec": {
   "display_name": "ada",
   "language": "python",
   "name": "python3"
  },
  "language_info": {
   "codemirror_mode": {
    "name": "ipython",
    "version": 3
   },
   "file_extension": ".py",
   "mimetype": "text/x-python",
   "name": "python",
   "nbconvert_exporter": "python",
   "pygments_lexer": "ipython3",
   "version": "3.11.9"
  }
 },
 "nbformat": 4,
 "nbformat_minor": 2
}
