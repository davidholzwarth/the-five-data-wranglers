{
 "cells": [
  {
   "cell_type": "code",
   "outputs": [
    {
     "name": "stderr",
     "output_type": "stream",
     "text": [
      "[autoreload of config failed: Traceback (most recent call last):\n",
      "  File \"C:\\Users\\nette\\anaconda3\\envs\\ada\\Lib\\site-packages\\IPython\\extensions\\autoreload.py\", line 276, in check\n",
      "    superreload(m, reload, self.old_objects)\n",
      "    \n",
      "  File \"C:\\Users\\nette\\anaconda3\\envs\\ada\\Lib\\site-packages\\IPython\\extensions\\autoreload.py\", line 475, in superreload\n",
      "    module = reload(module)\n",
      "    \n",
      "  File \"C:\\Users\\nette\\anaconda3\\envs\\ada\\Lib\\importlib\\__init__.py\", line 169, in reload\n",
      "    _bootstrap._exec(spec, module)\n",
      "    \n",
      "  File \"<frozen importlib._bootstrap>\", line 621, in _exec\n",
      "  File \"<frozen importlib._bootstrap_external>\", line 940, in exec_module\n",
      "  File \"<frozen importlib._bootstrap>\", line 241, in _call_with_frames_removed\n",
      "  File \"C:\\Users\\nette\\Dateistruktur\\RWTH\\Auslandssemester\\ImSemester\\CS-401 Applied Data Analysis\\Project\\P3\\the-five-data-wranglers\\config.py\", line 4, in <module>\n",
      "    df_ba_ratings, df_rb_ratings = load_rating_data()\n",
      "    \n",
      "  File \"C:\\Users\\nette\\Dateistruktur\\RWTH\\Auslandssemester\\ImSemester\\CS-401 Applied Data Analysis\\Project\\P3\\the-five-data-wranglers\\src\\data\\some_dataloader.py\", line 50, in load_rating_data\n",
      "    df_ba_ratings = pd.read_csv(ba_path)\n",
      "    \n",
      "  File \"C:\\Users\\nette\\anaconda3\\envs\\ada\\Lib\\site-packages\\pandas\\io\\parsers\\readers.py\", line 1026, in read_csv\n",
      "    return _read(filepath_or_buffer, kwds)\n",
      "    \n",
      "  File \"C:\\Users\\nette\\anaconda3\\envs\\ada\\Lib\\site-packages\\pandas\\io\\parsers\\readers.py\", line 626, in _read\n",
      "    return parser.read(nrows)\n",
      "    \n",
      "numpy.core._exceptions._ArrayMemoryError: Unable to allocate 448. MiB for an array with shape (7, 8393032) and data type float64\n",
      "]\n"
     ]
    },
    {
     "name": "stdout",
     "output_type": "stream",
     "text": [
      "C:\\Users\\nette\\Dateistruktur\\RWTH\\Auslandssemester\\ImSemester\\CS-401 Applied Data Analysis\\Project\\P3\\the-five-data-wranglers\n"
     ]
    }
   ],
   "source": [
    "import os\n",
    "print(os.getcwd())"
   ],
   "metadata": {
    "collapsed": false,
    "ExecuteTime": {
     "end_time": "2024-12-09T18:50:55.910074500Z",
     "start_time": "2024-12-09T18:50:07.598982400Z"
    }
   },
   "execution_count": 11
  },
  {
   "cell_type": "code",
   "execution_count": 1,
   "metadata": {
    "ExecuteTime": {
     "end_time": "2024-12-10T09:16:00.133202700Z",
     "start_time": "2024-12-10T09:14:59.615652400Z"
    }
   },
   "outputs": [],
   "source": [
    "%load_ext autoreload\n",
    "%autoreload 2\n",
    "from config import df_ba_ratings, df_rb_ratings\n",
    "from src.models.seasonality_analysis import *\n",
    "from src.models.foreign_beer import *\n",
    "from src.models.experience_words import *\n",
    "from src.data.some_dataloader import *"
   ]
  },
  {
   "cell_type": "code",
   "execution_count": 13,
   "metadata": {
    "ExecuteTime": {
     "end_time": "2024-12-09T18:51:07.341669300Z",
     "start_time": "2024-12-09T18:50:56.291106800Z"
    }
   },
   "outputs": [
    {
     "name": "stdout",
     "output_type": "stream",
     "text": [
      "We lost 0 rows by filtering out styles with less than 14 reviews.\n"
     ]
    }
   ],
   "source": [
    "plot_beer_style_ranking_by_amount(df_rb_ratings, df_rb_ratings['style'].unique(),  300, 14)"
   ]
  },
  {
   "cell_type": "markdown",
   "source": [
    "# Generaing the plots for the experience_words analysis"
   ],
   "metadata": {
    "collapsed": false
   }
  },
  {
   "cell_type": "markdown",
   "source": [
    "### Combined plot with distribution and rating differences"
   ],
   "metadata": {
    "collapsed": false
   }
  },
  {
   "cell_type": "code",
   "execution_count": 5,
   "metadata": {
    "ExecuteTime": {
     "end_time": "2024-12-09T18:05:49.429769100Z",
     "start_time": "2024-12-09T18:00:51.398171200Z"
    }
   },
   "outputs": [],
   "source": [
    "exp_user_ids_ba = get_experienced_users2(df_ba_ratings, exp_words1)\n",
    "df_ba_ratings_of_exp, df_ba_ratings_of_inexp = split_by_experience(df_ba_ratings, exp_user_ids_ba)"
   ]
  },
  {
   "cell_type": "code",
   "outputs": [],
   "source": [
    "plot_df, most_rated = calculate_style_distribution(df_ba_ratings_of_exp, df_ba_ratings_of_inexp)"
   ],
   "metadata": {
    "collapsed": false,
    "ExecuteTime": {
     "end_time": "2024-12-09T18:05:50.333524500Z",
     "start_time": "2024-12-09T18:05:49.442023600Z"
    }
   },
   "execution_count": 6
  },
  {
   "cell_type": "code",
   "outputs": [],
   "source": [
    "rating_diff_df = calculate_rating_difference(df_ba_ratings_of_exp, df_ba_ratings_of_inexp, most_rated)"
   ],
   "metadata": {
    "collapsed": false,
    "ExecuteTime": {
     "end_time": "2024-12-09T18:05:52.032556100Z",
     "start_time": "2024-12-09T18:05:50.336583300Z"
    }
   },
   "execution_count": 7
  },
  {
   "cell_type": "code",
   "outputs": [],
   "source": [
    "rating_diff_df2, distr_diff_df = calculate_rating_difference_with_ci(df_ba_ratings_of_exp, df_ba_ratings_of_inexp, most_rated)"
   ],
   "metadata": {
    "collapsed": false,
    "ExecuteTime": {
     "end_time": "2024-12-09T18:05:56.152056600Z",
     "start_time": "2024-12-09T18:05:52.038559400Z"
    }
   },
   "execution_count": 8
  },
  {
   "cell_type": "code",
   "outputs": [],
   "source": [
    "save_plot_combined_distribution_and_rating_difference_with_ci(plot_df, rating_diff_df2, distr_diff_df)"
   ],
   "metadata": {
    "collapsed": false,
    "ExecuteTime": {
     "end_time": "2024-12-09T18:14:25.244948500Z",
     "start_time": "2024-12-09T18:14:25.096113200Z"
    }
   },
   "execution_count": 10
  },
  {
   "cell_type": "markdown",
   "source": [
    "### US map plot"
   ],
   "metadata": {
    "collapsed": false
   }
  },
  {
   "cell_type": "code",
   "outputs": [],
   "source": [
    "df_ba_users, df_rb_users = load_user_data()"
   ],
   "metadata": {
    "collapsed": false,
    "ExecuteTime": {
     "end_time": "2024-12-10T09:16:00.578143900Z",
     "start_time": "2024-12-10T09:16:00.136675300Z"
    }
   },
   "execution_count": 2
  },
  {
   "cell_type": "code",
   "outputs": [],
   "source": [
    "df_brew = load_brewery_data(brewery_path=\"src/data/RateBeer/breweries.csv\")"
   ],
   "metadata": {
    "collapsed": false,
    "ExecuteTime": {
     "end_time": "2024-12-10T09:16:00.808300300Z",
     "start_time": "2024-12-10T09:16:00.579289400Z"
    }
   },
   "execution_count": 3
  },
  {
   "cell_type": "code",
   "outputs": [],
   "source": [
    "df_ba_ratings_wo_text = load_rating_wo_text(\"src/data/BeerAdvocate/BA_ratings.csv\")\n",
    "\n",
    "df_ba_ratings_w_text = df_ba_ratings\n",
    "df_rb_ratings_w_text = df_rb_ratings"
   ],
   "metadata": {
    "collapsed": false,
    "ExecuteTime": {
     "end_time": "2024-12-10T09:16:31.672304Z",
     "start_time": "2024-12-10T09:16:00.810462400Z"
    }
   },
   "execution_count": 4
  },
  {
   "cell_type": "code",
   "outputs": [
    {
     "name": "stdout",
     "output_type": "stream",
     "text": [
      "Number of ratings from US from BeerAdvocate: 7303870\n",
      "Number of ratings from US from RateBeer: 352157\n"
     ]
    }
   ],
   "source": [
    "df_rb_users_ratings_us_only, df_ba_users_ratings_us_only = prepare_datasets(df_rb_users, df_ba_users, df_rb_ratings_w_text, df_ba_ratings_w_text)"
   ],
   "metadata": {
    "collapsed": false,
    "ExecuteTime": {
     "end_time": "2024-12-10T09:16:56.469822400Z",
     "start_time": "2024-12-10T09:16:31.683306600Z"
    }
   },
   "execution_count": 5
  },
  {
   "cell_type": "code",
   "outputs": [
    {
     "name": "stdout",
     "output_type": "stream",
     "text": [
      "Number of duplicates:  317982\n"
     ]
    }
   ],
   "source": [
    "# there are some duplicates in the two datasets\n",
    "df_rb_users_ratings_us_only = filter_usa_duplicates(df_rb_users_ratings_us_only, df_ba_users_ratings_us_only, [\"style\", \"brewery_name\", \"abv\", \"text\"])"
   ],
   "metadata": {
    "collapsed": false,
    "ExecuteTime": {
     "end_time": "2024-12-10T09:17:03.197063200Z",
     "start_time": "2024-12-10T09:16:56.469822400Z"
    }
   },
   "execution_count": 6
  },
  {
   "cell_type": "code",
   "outputs": [],
   "source": [
    "df_rb_users_ratings_us_only = df_rb_users_ratings_us_only.drop(columns=[\"text\"])\n",
    "df_ba_users_ratings_us_only = df_ba_users_ratings_us_only.drop(columns=[\"text\"])"
   ],
   "metadata": {
    "collapsed": false,
    "ExecuteTime": {
     "end_time": "2024-12-10T09:17:04.392950800Z",
     "start_time": "2024-12-10T09:17:03.212407100Z"
    }
   },
   "execution_count": 7
  },
  {
   "cell_type": "code",
   "outputs": [],
   "source": [
    "df_ba_brew = load_brewery_data(brewery_path=\"src/data/BeerAdvocate/breweries.csv\")"
   ],
   "metadata": {
    "collapsed": false,
    "ExecuteTime": {
     "end_time": "2024-12-10T09:17:04.634770600Z",
     "start_time": "2024-12-10T09:17:04.396413400Z"
    }
   },
   "execution_count": 8
  },
  {
   "cell_type": "code",
   "outputs": [
    {
     "name": "stdout",
     "output_type": "stream",
     "text": [
      "Number of ratings from US: 7332710\n"
     ]
    }
   ],
   "source": [
    "df_us_only = merge_with_brewery(df_rb_users_ratings_us_only, df_ba_users_ratings_us_only, df_brew, df_ba_brew)"
   ],
   "metadata": {
    "collapsed": false,
    "ExecuteTime": {
     "end_time": "2024-12-10T09:17:08.237429500Z",
     "start_time": "2024-12-10T09:17:04.636901600Z"
    }
   },
   "execution_count": 9
  },
  {
   "cell_type": "code",
   "outputs": [
    {
     "name": "stdout",
     "output_type": "stream",
     "text": [
      "Avg rating for US beer: 3.9113082983029344\n",
      "Avg rating for non-US beer: 3.800977039382433\n"
     ]
    }
   ],
   "source": [
    "df_us_only = avg_ratings_us(df_us_only)"
   ],
   "metadata": {
    "collapsed": false,
    "ExecuteTime": {
     "end_time": "2024-12-10T09:17:10.339355500Z",
     "start_time": "2024-12-10T09:17:08.241827800Z"
    }
   },
   "execution_count": 10
  },
  {
   "cell_type": "code",
   "outputs": [],
   "source": [
    "avg_ratings_per_location = avg_ratings_per_location_us(df_us_only)"
   ],
   "metadata": {
    "collapsed": false,
    "ExecuteTime": {
     "end_time": "2024-12-10T09:17:12.925332400Z",
     "start_time": "2024-12-10T09:17:10.342367400Z"
    }
   },
   "execution_count": 11
  },
  {
   "cell_type": "code",
   "outputs": [
    {
     "name": "stdout",
     "output_type": "stream",
     "text": [
      "is_us_beer user_location     False      True  Difference\n",
      "0                Alabama  3.749917  3.840242    0.090325\n",
      "1                 Alaska  3.906063  3.948660    0.042597\n",
      "2                Arizona  3.777696  3.927382    0.149686\n",
      "3               Arkansas  3.783181  3.864941    0.081760\n",
      "4             California  3.805595  3.959702    0.154107\n",
      "is_us_beer State     False      True  Rating Difference\n",
      "0             AL  3.749917  3.840242           0.090325\n",
      "1             AK  3.906063  3.948660           0.042597\n",
      "2             AZ  3.777696  3.927382           0.149686\n",
      "3             AR  3.783181  3.864941           0.081760\n",
      "4             CA  3.805595  3.959702           0.154107\n"
     ]
    }
   ],
   "source": [
    "plot_avg_ratings_map(avg_ratings_per_location)"
   ],
   "metadata": {
    "collapsed": false,
    "ExecuteTime": {
     "end_time": "2024-12-10T09:17:14.356592300Z",
     "start_time": "2024-12-10T09:17:12.929254800Z"
    }
   },
   "execution_count": 12
  },
  {
   "cell_type": "code",
   "outputs": [],
   "source": [],
   "metadata": {
    "collapsed": false
   }
  }
 ],
 "metadata": {
  "kernelspec": {
   "display_name": "ada",
   "language": "python",
   "name": "python3"
  },
  "language_info": {
   "codemirror_mode": {
    "name": "ipython",
    "version": 3
   },
   "file_extension": ".py",
   "mimetype": "text/x-python",
   "name": "python",
   "nbconvert_exporter": "python",
   "pygments_lexer": "ipython3",
   "version": "3.11.9"
  }
 },
 "nbformat": 4,
 "nbformat_minor": 2
}
