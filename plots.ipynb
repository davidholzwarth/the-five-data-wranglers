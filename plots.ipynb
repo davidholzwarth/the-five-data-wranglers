{
 "cells": [
  {
   "cell_type": "code",
   "execution_count": 45,
   "metadata": {},
   "outputs": [
    {
     "name": "stdout",
     "output_type": "stream",
     "text": [
      "The autoreload extension is already loaded. To reload it, use:\n",
      "  %reload_ext autoreload\n"
     ]
    }
   ],
   "source": [
    "%load_ext autoreload\n",
    "%autoreload 2\n",
    "from config import df_ba_ratings, df_rb_ratings\n",
    "from src.models.seasonality_analysis import *\n",
    "from src.models.rating_distribution_over_time import *"
   ]
  },
  {
   "cell_type": "code",
   "execution_count": 8,
   "metadata": {},
   "outputs": [
    {
     "name": "stdout",
     "output_type": "stream",
     "text": [
      "We lost 97 rows by filtering out styles with less than 10 reviews.\n",
      "We lost 169 rows by filtering out styles with less than 500 reviews.\n",
      "We lost 169 rows by filtering out styles with less than 500 reviews.\n"
     ]
    }
   ],
   "source": [
    "plot_and_head_average_rating_per_month(df_rb_ratings)\n",
    "plot_beer_style_ranking_by_amount(df_rb_ratings, df_rb_ratings['style'].unique())\n",
    "plot_beer_style_ranking_by_amount_subplot(df_rb_ratings, df_rb_ratings['style'].unique())\n",
    "plot_beer_style_ranking_by_avg_score(df_rb_ratings)\n",
    "rating_evolution_with_rating_number(df_ba_ratings, 'Beer Advocate')\n",
    "rating_evolution_with_rating_number(df_rb_ratings, 'Rate Beer')\n",
    "rating_evolution_over_time(df_ba_ratings, 'Beer Advocate')\n",
    "rating_evolution_over_time(df_rb_ratings, 'Rate Beer')\n"
   ]
  },
  {
   "cell_type": "code",
   "execution_count": 57,
   "metadata": {},
   "outputs": [
    {
     "name": "stderr",
     "output_type": "stream",
     "text": [
      "/Users/gabriella/Desktop/EPFL/the-five-data-wranglers/src/models/rating_distribution_over_time.py:87: SettingWithCopyWarning:\n",
      "\n",
      "\n",
      "A value is trying to be set on a copy of a slice from a DataFrame.\n",
      "Try using .loc[row_indexer,col_indexer] = value instead\n",
      "\n",
      "See the caveats in the documentation: https://pandas.pydata.org/pandas-docs/stable/user_guide/indexing.html#returning-a-view-versus-a-copy\n",
      "\n",
      "/Users/gabriella/Desktop/EPFL/the-five-data-wranglers/src/models/rating_distribution_over_time.py:87: SettingWithCopyWarning:\n",
      "\n",
      "\n",
      "A value is trying to be set on a copy of a slice from a DataFrame.\n",
      "Try using .loc[row_indexer,col_indexer] = value instead\n",
      "\n",
      "See the caveats in the documentation: https://pandas.pydata.org/pandas-docs/stable/user_guide/indexing.html#returning-a-view-versus-a-copy\n",
      "\n"
     ]
    }
   ],
   "source": [
    "rating_evolution_with_rating_number(df_ba_ratings, 'Beer Advocate')\n",
    "rating_evolution_with_rating_number(df_rb_ratings, 'Rate Beer')\n",
    "rating_evolution_over_time(df_ba_ratings, 'Beer Advocate')\n",
    "rating_evolution_over_time(df_rb_ratings, 'Rate Beer')"
   ]
  },
  {
   "cell_type": "code",
   "execution_count": null,
   "metadata": {},
   "outputs": [],
   "source": []
  }
 ],
 "metadata": {
  "kernelspec": {
   "display_name": "ada",
   "language": "python",
   "name": "python3"
  },
  "language_info": {
   "codemirror_mode": {
    "name": "ipython",
    "version": 3
   },
   "file_extension": ".py",
   "mimetype": "text/x-python",
   "name": "python",
   "nbconvert_exporter": "python",
   "pygments_lexer": "ipython3",
   "version": "3.11.9"
  }
 },
 "nbformat": 4,
 "nbformat_minor": 2
}
