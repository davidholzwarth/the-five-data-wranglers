{
 "cells": [
  {
   "cell_type": "code",
   "outputs": [
    {
     "name": "stderr",
     "output_type": "stream",
     "text": [
      "[autoreload of config failed: Traceback (most recent call last):\n",
      "  File \"C:\\Users\\nette\\anaconda3\\envs\\ada\\Lib\\site-packages\\IPython\\extensions\\autoreload.py\", line 276, in check\n",
      "    superreload(m, reload, self.old_objects)\n",
      "    \n",
      "  File \"C:\\Users\\nette\\anaconda3\\envs\\ada\\Lib\\site-packages\\IPython\\extensions\\autoreload.py\", line 475, in superreload\n",
      "    module = reload(module)\n",
      "    \n",
      "  File \"C:\\Users\\nette\\anaconda3\\envs\\ada\\Lib\\importlib\\__init__.py\", line 169, in reload\n",
      "    _bootstrap._exec(spec, module)\n",
      "    \n",
      "  File \"<frozen importlib._bootstrap>\", line 621, in _exec\n",
      "  File \"<frozen importlib._bootstrap_external>\", line 940, in exec_module\n",
      "  File \"<frozen importlib._bootstrap>\", line 241, in _call_with_frames_removed\n",
      "  File \"C:\\Users\\nette\\Dateistruktur\\RWTH\\Auslandssemester\\ImSemester\\CS-401 Applied Data Analysis\\Project\\P3\\the-five-data-wranglers\\config.py\", line 4, in <module>\n",
      "    df_ba_ratings, df_rb_ratings = load_rating_data()\n",
      "    \n",
      "  File \"C:\\Users\\nette\\Dateistruktur\\RWTH\\Auslandssemester\\ImSemester\\CS-401 Applied Data Analysis\\Project\\P3\\the-five-data-wranglers\\src\\data\\some_dataloader.py\", line 50, in load_rating_data\n",
      "    df_ba_ratings = pd.read_csv(ba_path)\n",
      "    \n",
      "  File \"C:\\Users\\nette\\anaconda3\\envs\\ada\\Lib\\site-packages\\pandas\\io\\parsers\\readers.py\", line 1026, in read_csv\n",
      "    return _read(filepath_or_buffer, kwds)\n",
      "    \n",
      "  File \"C:\\Users\\nette\\anaconda3\\envs\\ada\\Lib\\site-packages\\pandas\\io\\parsers\\readers.py\", line 626, in _read\n",
      "    return parser.read(nrows)\n",
      "    \n",
      "numpy.core._exceptions._ArrayMemoryError: Unable to allocate 448. MiB for an array with shape (7, 8393032) and data type float64\n",
      "]\n"
     ]
    },
    {
     "name": "stdout",
     "output_type": "stream",
     "text": [
      "C:\\Users\\nette\\Dateistruktur\\RWTH\\Auslandssemester\\ImSemester\\CS-401 Applied Data Analysis\\Project\\P3\\the-five-data-wranglers\n"
     ]
    }
   ],
   "source": [
    "import os\n",
    "print(os.getcwd())"
   ],
   "metadata": {
    "collapsed": false,
    "ExecuteTime": {
     "end_time": "2024-12-09T18:50:55.910074500Z",
     "start_time": "2024-12-09T18:50:07.598982400Z"
    }
   },
   "execution_count": 11
  },
  {
   "cell_type": "code",
   "execution_count": 12,
   "metadata": {
    "ExecuteTime": {
     "end_time": "2024-12-09T18:50:56.303529600Z",
     "start_time": "2024-12-09T18:50:55.854900700Z"
    }
   },
   "outputs": [
    {
     "name": "stdout",
     "output_type": "stream",
     "text": [
      "The autoreload extension is already loaded. To reload it, use:\n",
      "  %reload_ext autoreload\n"
     ]
    }
   ],
   "source": [
    "%load_ext autoreload\n",
    "%autoreload 2\n",
    "from config import df_ba_ratings, df_rb_ratings\n",
    "from src.models.seasonality_analysis import *\n",
    "from src.models.foreign_beer import *\n",
    "from src.models.experience_words import *"
   ]
  },
  {
   "cell_type": "code",
   "execution_count": 13,
   "metadata": {
    "ExecuteTime": {
     "end_time": "2024-12-09T18:51:07.341669300Z",
     "start_time": "2024-12-09T18:50:56.291106800Z"
    }
   },
   "outputs": [
    {
     "name": "stdout",
     "output_type": "stream",
     "text": [
      "We lost 0 rows by filtering out styles with less than 14 reviews.\n"
     ]
    }
   ],
   "source": [
    "%load_ext autoreload\n",
    "%autoreload 2\n",
    "from config import df_ba_ratings, df_rb_ratings\n",
    "from src.models.seasonality_analysis import *\n",
    "from src.models.rating_distribution_over_time import *"
   ]
  },
  {
   "cell_type": "code",
   "execution_count": null,
   "metadata": {},
   "outputs": [
    {
     "name": "stdout",
     "output_type": "stream",
     "text": [
      "We lost 97 rows by filtering out styles with less than 10 reviews.\n",
      "We lost 169 rows by filtering out styles with less than 500 reviews.\n",
      "We lost 169 rows by filtering out styles with less than 500 reviews.\n"
     ]
    }
   ],
   "source": [
    "plot_and_head_average_rating_per_month(df_rb_ratings)\n",
    "plot_beer_style_ranking_by_amount(df_rb_ratings, df_rb_ratings['style'].unique())\n",
    "plot_beer_style_ranking_by_amount_subplot(df_rb_ratings, df_rb_ratings['style'].unique())\n",
    "plot_beer_style_ranking_by_avg_score(df_rb_ratings)\n",
    "rating_evolution_with_rating_number(df_ba_ratings, 'Beer Advocate')\n",
    "rating_evolution_with_rating_number(df_rb_ratings, 'Rate Beer')\n",
    "rating_evolution_over_time(df_ba_ratings, 'Beer Advocate')\n",
    "rating_evolution_over_time(df_rb_ratings, 'Rate Beer')\n",
    "\n"
   ]
  },
  {
   "cell_type": "code",
   "execution_count": 57,
   "metadata": {},
   "outputs": [
    {
     "name": "stderr",
     "output_type": "stream",
     "text": [
      "/Users/gabriella/Desktop/EPFL/the-five-data-wranglers/src/models/rating_distribution_over_time.py:87: SettingWithCopyWarning:\n",
      "\n",
      "\n",
      "A value is trying to be set on a copy of a slice from a DataFrame.\n",
      "Try using .loc[row_indexer,col_indexer] = value instead\n",
      "\n",
      "See the caveats in the documentation: https://pandas.pydata.org/pandas-docs/stable/user_guide/indexing.html#returning-a-view-versus-a-copy\n",
      "\n",
      "/Users/gabriella/Desktop/EPFL/the-five-data-wranglers/src/models/rating_distribution_over_time.py:87: SettingWithCopyWarning:\n",
      "\n",
      "\n",
      "A value is trying to be set on a copy of a slice from a DataFrame.\n",
      "Try using .loc[row_indexer,col_indexer] = value instead\n",
      "\n",
      "See the caveats in the documentation: https://pandas.pydata.org/pandas-docs/stable/user_guide/indexing.html#returning-a-view-versus-a-copy\n",
      "\n"
     ]
    }
   ],
   "source": [
    "rating_evolution_with_rating_number(df_ba_ratings, 'Beer Advocate')\n",
    "rating_evolution_with_rating_number(df_rb_ratings, 'Rate Beer')\n",
    "rating_evolution_over_time(df_ba_ratings, 'Beer Advocate')\n",
    "rating_evolution_over_time(df_rb_ratings, 'Rate Beer')"
   ]
  },
  {
   "cell_type": "markdown",
   "source": [
    "# Generaing the plots for the experience_words analysis"
   ],
   "metadata": {
    "collapsed": false
   }
  },
  {
   "cell_type": "code",
   "execution_count": 5,
   "metadata": {
    "ExecuteTime": {
     "end_time": "2024-12-09T18:05:49.429769100Z",
     "start_time": "2024-12-09T18:00:51.398171200Z"
    }
   },
   "outputs": [],
   "source": [
    "exp_user_ids_ba = get_experienced_users2(df_ba_ratings, exp_words1)\n",
    "df_ba_ratings_of_exp, df_ba_ratings_of_inexp = split_by_experience(df_ba_ratings, exp_user_ids_ba)"
   ]
  },
  {
   "cell_type": "code",
   "outputs": [],
   "source": [
    "plot_df, most_rated = calculate_style_distribution(df_ba_ratings_of_exp, df_ba_ratings_of_inexp)"
   ],
   "metadata": {
    "collapsed": false,
    "ExecuteTime": {
     "end_time": "2024-12-09T18:05:50.333524500Z",
     "start_time": "2024-12-09T18:05:49.442023600Z"
    }
   },
   "execution_count": 6
  },
  {
   "cell_type": "code",
   "outputs": [],
   "source": [
    "rating_diff_df = calculate_rating_difference(df_ba_ratings_of_exp, df_ba_ratings_of_inexp, most_rated)"
   ],
   "metadata": {
    "collapsed": false,
    "ExecuteTime": {
     "end_time": "2024-12-09T18:05:52.032556100Z",
     "start_time": "2024-12-09T18:05:50.336583300Z"
    }
   },
   "execution_count": 7
  },
  {
   "cell_type": "code",
   "outputs": [],
   "source": [
    "rating_diff_df2, distr_diff_df = calculate_rating_difference_with_ci(df_ba_ratings_of_exp, df_ba_ratings_of_inexp, most_rated)"
   ],
   "metadata": {
    "collapsed": false,
    "ExecuteTime": {
     "end_time": "2024-12-09T18:05:56.152056600Z",
     "start_time": "2024-12-09T18:05:52.038559400Z"
    }
   },
   "execution_count": 8
  },
  {
   "cell_type": "code",
   "outputs": [],
   "source": [
    "save_plot_combined_distribution_and_rating_difference_with_ci(plot_df, rating_diff_df2, distr_diff_df)"
   ],
   "metadata": {
    "collapsed": false,
    "ExecuteTime": {
     "end_time": "2024-12-09T18:14:25.244948500Z",
     "start_time": "2024-12-09T18:14:25.096113200Z"
    }
   },
   "execution_count": 10
  },
  {
   "cell_type": "code",
   "outputs": [],
   "source": [],
   "metadata": {
    "collapsed": false
   }
  }
 ],
 "metadata": {
  "kernelspec": {
   "display_name": "ada",
   "language": "python",
   "name": "python3"
  },
  "language_info": {
   "codemirror_mode": {
    "name": "ipython",
    "version": 3
   },
   "file_extension": ".py",
   "mimetype": "text/x-python",
   "name": "python",
   "nbconvert_exporter": "python",
   "pygments_lexer": "ipython3",
   "version": "3.11.9"
  }
 },
 "nbformat": 4,
 "nbformat_minor": 2
}
